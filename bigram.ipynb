{
 "cells": [
  {
   "cell_type": "code",
   "execution_count": 16,
   "id": "a09c2b9d-129b-4db5-a579-795ca00ec631",
   "metadata": {},
   "outputs": [
    {
     "name": "stdout",
     "output_type": "stream",
     "text": [
      "cuda\n"
     ]
    }
   ],
   "source": [
    "import torch\n",
    "device = 'cuda' if torch.cuda.is_available() else 'cpu'\n",
    "print(device)\n",
    "\n",
    "block_size = 8\n",
    "batch_size = 4 # How many blocks are we doing in parellal"
   ]
  },
  {
   "cell_type": "code",
   "execution_count": 10,
   "id": "416cf160-a983-47f6-a197-afb275b53ce7",
   "metadata": {},
   "outputs": [
    {
     "name": "stdout",
     "output_type": "stream",
     "text": [
      "['\\n', ' ', '!', '\"', '&', \"'\", '(', ')', '*', ',', '-', '.', '0', '1', '2', '3', '4', '5', '6', '7', '8', '9', ':', ';', '?', 'A', 'B', 'C', 'D', 'E', 'F', 'G', 'H', 'I', 'J', 'K', 'L', 'M', 'N', 'O', 'P', 'Q', 'R', 'S', 'T', 'U', 'V', 'W', 'X', 'Y', 'Z', '[', ']', '_', 'a', 'b', 'c', 'd', 'e', 'f', 'g', 'h', 'i', 'j', 'k', 'l', 'm', 'n', 'o', 'p', 'q', 'r', 's', 't', 'u', 'v', 'w', 'x', 'y', 'z', '\\ufeff']\n"
     ]
    }
   ],
   "source": [
    "with open('wizard_of_oz.txt','r',encoding='utf-8') as f:\n",
    "    text = f.read()\n",
    "chars = sorted(set(text))\n",
    "print(chars)"
   ]
  },
  {
   "cell_type": "code",
   "execution_count": 11,
   "id": "e72e04b1-f051-467d-b87e-e33033e290e6",
   "metadata": {},
   "outputs": [
    {
     "name": "stdout",
     "output_type": "stream",
     "text": [
      "tensor([80,  1,  1, 28, 39, 42, 39, 44, 32, 49,  1, 25, 38, 28,  1, 44, 32, 29,\n",
      "         1, 47, 33, 50, 25, 42, 28,  1, 33, 38,  1, 39, 50,  0,  0,  1,  1, 26,\n",
      "        49,  0,  0,  1,  1, 36, 11,  1, 30, 42, 25, 38, 35,  1, 26, 25, 45, 37,\n",
      "         0,  0,  1,  1, 25, 45, 44, 32, 39, 42,  1, 39, 30,  1, 44, 32, 29,  1,\n",
      "        47, 33, 50, 25, 42, 28,  1, 39, 30,  1, 39, 50,  9,  1, 44, 32, 29,  1,\n",
      "        36, 25, 38, 28,  1, 39, 30,  1, 39, 50])\n"
     ]
    }
   ],
   "source": [
    "string_to_int = {ch:i for i,ch in enumerate(chars)}\n",
    "int_to_string = {i:ch for i,ch in enumerate(chars)}\n",
    "encode = lambda s: [string_to_int[c] for c in s]\n",
    "decode = lambda l: ''.join([int_to_string[i] for i in l])\n",
    "\n",
    "data = torch.tensor(encode(text),dtype=torch.long)\n",
    "print(data[0:100])"
   ]
  },
  {
   "cell_type": "code",
   "execution_count": 12,
   "id": "162245d1-6807-44bb-94f8-a5f4237e7588",
   "metadata": {},
   "outputs": [],
   "source": [
    "n = int(0.8*len(data))\n",
    "train_data = data[:n]\n",
    "val_data = data[n:]"
   ]
  },
  {
   "cell_type": "code",
   "execution_count": 15,
   "id": "0ec9cd2c-eb92-4b65-b0aa-393d343f69b8",
   "metadata": {},
   "outputs": [
    {
     "name": "stdout",
     "output_type": "stream",
     "text": [
      "With input is content  tensor([80])  target is  tensor(1)\n",
      "With input is content  tensor([80,  1])  target is  tensor(1)\n",
      "With input is content  tensor([80,  1,  1])  target is  tensor(28)\n",
      "With input is content  tensor([80,  1,  1, 28])  target is  tensor(39)\n",
      "With input is content  tensor([80,  1,  1, 28, 39])  target is  tensor(42)\n",
      "With input is content  tensor([80,  1,  1, 28, 39, 42])  target is  tensor(39)\n",
      "With input is content  tensor([80,  1,  1, 28, 39, 42, 39])  target is  tensor(44)\n",
      "With input is content  tensor([80,  1,  1, 28, 39, 42, 39, 44])  target is  tensor(32)\n"
     ]
    }
   ],
   "source": [
    "\n",
    "\n",
    "x = train_data[:block_size]\n",
    "y = train_data[1:block_size+1] # Offset the target block by one charactor\n",
    "\n",
    "for t in range(block_size):\n",
    "    context = x[:t+1]\n",
    "    target = y[t]\n",
    "    print(\"With input is content \", context, \" target is \", target)"
   ]
  },
  {
   "cell_type": "markdown",
   "id": "6951a9cb-6be0-4caf-9042-0dd62be73950",
   "metadata": {},
   "source": [
    "**Block size** - length of the block\n",
    "\n",
    "**Batch Size** - How many of these can process at the same time"
   ]
  },
  {
   "cell_type": "code",
   "execution_count": null,
   "id": "41bc6ec5-7afc-4aee-810a-d34fe739206d",
   "metadata": {},
   "outputs": [],
   "source": []
  }
 ],
 "metadata": {
  "kernelspec": {
   "display_name": "'cuda-gpt'",
   "language": "python",
   "name": "cuda"
  },
  "language_info": {
   "codemirror_mode": {
    "name": "ipython",
    "version": 3
   },
   "file_extension": ".py",
   "mimetype": "text/x-python",
   "name": "python",
   "nbconvert_exporter": "python",
   "pygments_lexer": "ipython3",
   "version": "3.12.1"
  }
 },
 "nbformat": 4,
 "nbformat_minor": 5
}
